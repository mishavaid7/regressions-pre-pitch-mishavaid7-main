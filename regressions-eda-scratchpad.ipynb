{
 "cells": [
  {
   "cell_type": "code",
   "execution_count": 1,
   "id": "cf7b443f",
   "metadata": {},
   "outputs": [],
   "source": [
    "import pandas as pd\n",
    "from plotnine import *\n",
    "\n",
    "# importing statsmodels (for linear regression in python)\n",
    "import statsmodels.formula.api as smf"
   ]
  },
  {
   "cell_type": "markdown",
   "id": "be3f94ec",
   "metadata": {},
   "source": [
    "# Scratchpad \n",
    "\n",
    "Welcome to your scratchpad for this exploratory data analysis. This is your \"messy notebook\". \n",
    "\n",
    "Load some data, run summary stats, create plots to explore the data, and run some exploratory regressions.\n",
    "\n",
    "> Sidenote 🤖 - Using R and Python in the same notebook.\n",
    ">\n",
    "> Just a reminder that if you're a SideQuest-er 🤖 and want to use both R and Python, you can grab the top cells in the jupyter-quickstart notebook https://github.com/dmil/jupyter-quickstart. I find that ggplot in R is a bit more flexible and feature-full than Plotnine, and there is a lot more material online on running regressions in R than using statsmodels in Python. For this reason, I generally use R for plotting and regressions, but you're welcome to use either (or both)!\n",
    "\n",
    "\n",
    "## Load Data"
   ]
  },
  {
   "cell_type": "markdown",
   "id": "0f878406",
   "metadata": {},
   "source": [
    "Code for loading raw data like `pd.read_csv()` etc. -- will go into this section. "
   ]
  },
  {
   "cell_type": "code",
   "execution_count": null,
   "id": "11ca2569",
   "metadata": {},
   "outputs": [],
   "source": []
  },
  {
   "cell_type": "code",
   "execution_count": null,
   "id": "18417a5f",
   "metadata": {},
   "outputs": [],
   "source": []
  },
  {
   "cell_type": "markdown",
   "id": "4d4ff1eb",
   "metadata": {},
   "source": [
    "### Clean data\n",
    "\n",
    "As you do your exploration, you may find that you need to transform the data (for example you want to extract the brand of a car from the name column, or rename 0 and 1 in the `am` column to \"automatic\" and \"manual\". I'd reccomend putting any of that code here and re-running the notebook. That way, when you come back to the notebook later, the data processing code is all at the top and you can chart or analyze whatever you want after it. \n",
    "\n",
    "Feel free to add as many cells as you need in this section."
   ]
  },
  {
   "cell_type": "code",
   "execution_count": null,
   "id": "2f0cff4a",
   "metadata": {},
   "outputs": [],
   "source": []
  },
  {
   "cell_type": "code",
   "execution_count": null,
   "id": "a7f794f1",
   "metadata": {},
   "outputs": [],
   "source": []
  },
  {
   "cell_type": "code",
   "execution_count": null,
   "id": "754fb65b",
   "metadata": {},
   "outputs": [],
   "source": []
  },
  {
   "cell_type": "code",
   "execution_count": null,
   "id": "daa8486c",
   "metadata": {},
   "outputs": [],
   "source": []
  },
  {
   "cell_type": "code",
   "execution_count": null,
   "id": "ec211828",
   "metadata": {},
   "outputs": [],
   "source": []
  },
  {
   "cell_type": "markdown",
   "id": "2fc06aeb",
   "metadata": {},
   "source": [
    "## Explore the data"
   ]
  },
  {
   "cell_type": "markdown",
   "id": "81472f6f",
   "metadata": {},
   "source": [
    "### Summary Stats\n",
    "\n",
    "This is the part of the data exploration where you get to understand what the columns are. You're welcome to pop open the data in excel as well to get a sense of it. At the very least, you'll want to run `.describe()` on your dataframe or dataframes. If you want to do a correlation matrix, you can use `.corr()` (sometimes I like to add `.round(2)` to the end of that so it doesn't report it out to too many decimal places)"
   ]
  },
  {
   "cell_type": "code",
   "execution_count": null,
   "id": "81ed83da",
   "metadata": {},
   "outputs": [],
   "source": []
  },
  {
   "cell_type": "code",
   "execution_count": null,
   "id": "1d35dfd7",
   "metadata": {},
   "outputs": [],
   "source": []
  },
  {
   "cell_type": "code",
   "execution_count": null,
   "id": "6c9cdf98",
   "metadata": {},
   "outputs": [],
   "source": []
  },
  {
   "cell_type": "markdown",
   "id": "41abf615",
   "metadata": {},
   "source": [
    "### Plots (exploratory)\n",
    "\n",
    "Remember, always plot your distributions. You may want to try some histograms on particular columns. \n",
    "\n",
    "Scatter plots could also help with understanding how variables relate to one another. \n",
    "\n",
    "Feel free to use any plot type you think will help you better understand the data. If you think you've got a takeaway or a question, you can put that takeaway or question in a markdown cell above or below the chart. Just to remind yourself and anyone you're asking for help from, the purpose of that plot. I also like to get into the habit of titling plots [DRAFT]-NOT FOR PUBLICATION since exploratory data viz can be misleading but you might pass them around to editors or colleagues as you try to understand the data."
   ]
  },
  {
   "cell_type": "code",
   "execution_count": 4,
   "id": "da9600eb",
   "metadata": {},
   "outputs": [
    {
     "data": {
      "image/png": "[encoded data removed]",
      "text/plain": [
       "<Figure size 640x480 with 1 Axes>"
      ]
     },
     "metadata": {},
     "output_type": "display_data"
    },
    {
     "data": {
      "text/plain": [
       "<ggplot: (356220621)>"
      ]
     },
     "execution_count": 4,
     "metadata": {},
     "output_type": "execute_result"
    }
   ],
   "source": [
    "(\n",
    "    ggplot()\n",
    ")"
   ]
  },
  {
   "cell_type": "code",
   "execution_count": null,
   "id": "baa9bb7c",
   "metadata": {},
   "outputs": [],
   "source": []
  },
  {
   "cell_type": "code",
   "execution_count": null,
   "id": "6539becc",
   "metadata": {},
   "outputs": [],
   "source": []
  },
  {
   "cell_type": "code",
   "execution_count": null,
   "id": "f73b4e9d",
   "metadata": {},
   "outputs": [],
   "source": []
  },
  {
   "cell_type": "code",
   "execution_count": null,
   "id": "e85af2c7",
   "metadata": {},
   "outputs": [],
   "source": []
  },
  {
   "cell_type": "code",
   "execution_count": null,
   "id": "9d40064d",
   "metadata": {},
   "outputs": [],
   "source": []
  },
  {
   "cell_type": "markdown",
   "id": "48a9729f",
   "metadata": {},
   "source": [
    "### Regressions and Models (exploratory)\n",
    "\n",
    "This is where you start using some of the more advanced statsitical techniques you've learned so far to understand the data better. Wondering if the differences between two means is significant? You want to try a t-test. Alternatively, this is a good place to play around with regressions to better understand how variables in your dataset relate to one another. You might want to put the takeaway from the regression model in the cell below, just so you don't forget what exploration you did and what it means."
   ]
  },
  {
   "cell_type": "code",
   "execution_count": 5,
   "id": "ca57d41d",
   "metadata": {},
   "outputs": [
    {
     "data": {
      "text/html": [
       "<table class=\"simpletable\">\n",
       "<caption>OLS Regression Results</caption>\n",
       "<tr>\n",
       "  <th>Dep. Variable:</th>          <td>Sales</td>      <th>  R-squared:         </th> <td>   0.612</td>\n",
       "</tr>\n",
       "<tr>\n",
       "  <th>Model:</th>                   <td>OLS</td>       <th>  Adj. R-squared:    </th> <td>   0.610</td>\n",
       "</tr>\n",
       "<tr>\n",
       "  <th>Method:</th>             <td>Least Squares</td>  <th>  F-statistic:       </th> <td>   312.1</td>\n",
       "</tr>\n",
       "<tr>\n",
       "  <th>Date:</th>             <td>Tue, 15 Feb 2022</td> <th>  Prob (F-statistic):</th> <td>1.47e-42</td>\n",
       "</tr>\n",
       "<tr>\n",
       "  <th>Time:</th>                 <td>13:19:03</td>     <th>  Log-Likelihood:    </th> <td> -519.05</td>\n",
       "</tr>\n",
       "<tr>\n",
       "  <th>No. Observations:</th>      <td>   200</td>      <th>  AIC:               </th> <td>   1042.</td>\n",
       "</tr>\n",
       "<tr>\n",
       "  <th>Df Residuals:</th>          <td>   198</td>      <th>  BIC:               </th> <td>   1049.</td>\n",
       "</tr>\n",
       "<tr>\n",
       "  <th>Df Model:</th>              <td>     1</td>      <th>                     </th>     <td> </td>   \n",
       "</tr>\n",
       "<tr>\n",
       "  <th>Covariance Type:</th>      <td>nonrobust</td>    <th>                     </th>     <td> </td>   \n",
       "</tr>\n",
       "</table>\n",
       "<table class=\"simpletable\">\n",
       "<tr>\n",
       "      <td></td>         <th>coef</th>     <th>std err</th>      <th>t</th>      <th>P>|t|</th>  <th>[0.025</th>    <th>0.975]</th>  \n",
       "</tr>\n",
       "<tr>\n",
       "  <th>Intercept</th> <td>    7.0326</td> <td>    0.458</td> <td>   15.360</td> <td> 0.000</td> <td>    6.130</td> <td>    7.935</td>\n",
       "</tr>\n",
       "<tr>\n",
       "  <th>TV</th>        <td>    0.0475</td> <td>    0.003</td> <td>   17.668</td> <td> 0.000</td> <td>    0.042</td> <td>    0.053</td>\n",
       "</tr>\n",
       "</table>\n",
       "<table class=\"simpletable\">\n",
       "<tr>\n",
       "  <th>Omnibus:</th>       <td> 0.531</td> <th>  Durbin-Watson:     </th> <td>   1.935</td>\n",
       "</tr>\n",
       "<tr>\n",
       "  <th>Prob(Omnibus):</th> <td> 0.767</td> <th>  Jarque-Bera (JB):  </th> <td>   0.669</td>\n",
       "</tr>\n",
       "<tr>\n",
       "  <th>Skew:</th>          <td>-0.089</td> <th>  Prob(JB):          </th> <td>   0.716</td>\n",
       "</tr>\n",
       "<tr>\n",
       "  <th>Kurtosis:</th>      <td> 2.779</td> <th>  Cond. No.          </th> <td>    338.</td>\n",
       "</tr>\n",
       "</table><br/><br/>Notes:<br/>[1] Standard Errors assume that the covariance matrix of the errors is correctly specified."
      ],
      "text/plain": [
       "<class 'statsmodels.iolib.summary.Summary'>\n",
       "\"\"\"\n",
       "                            OLS Regression Results                            \n",
       "==============================================================================\n",
       "Dep. Variable:                  Sales   R-squared:                       0.612\n",
       "Model:                            OLS   Adj. R-squared:                  0.610\n",
       "Method:                 Least Squares   F-statistic:                     312.1\n",
       "Date:                Tue, 15 Feb 2022   Prob (F-statistic):           1.47e-42\n",
       "Time:                        13:19:03   Log-Likelihood:                -519.05\n",
       "No. Observations:                 200   AIC:                             1042.\n",
       "Df Residuals:                     198   BIC:                             1049.\n",
       "Df Model:                           1                                         \n",
       "Covariance Type:            nonrobust                                         \n",
       "==============================================================================\n",
       "                 coef    std err          t      P>|t|      [0.025      0.975]\n",
       "------------------------------------------------------------------------------\n",
       "Intercept      7.0326      0.458     15.360      0.000       6.130       7.935\n",
       "TV             0.0475      0.003     17.668      0.000       0.042       0.053\n",
       "==============================================================================\n",
       "Omnibus:                        0.531   Durbin-Watson:                   1.935\n",
       "Prob(Omnibus):                  0.767   Jarque-Bera (JB):                0.669\n",
       "Skew:                          -0.089   Prob(JB):                        0.716\n",
       "Kurtosis:                       2.779   Cond. No.                         338.\n",
       "==============================================================================\n",
       "\n",
       "Notes:\n",
       "[1] Standard Errors assume that the covariance matrix of the errors is correctly specified.\n",
       "\"\"\""
      ]
     },
     "execution_count": 5,
     "metadata": {},
     "output_type": "execute_result"
    }
   ],
   "source": [
    "# import statsmodels.formula.api as smf\n",
    "# model = smf.ols(\"Y ~ X1 + X2 + X3\", data=df)\n",
    "# results = model.fit()\n",
    "# results.summary()\n"
   ]
  },
  {
   "cell_type": "code",
   "execution_count": null,
   "id": "1272a5a6",
   "metadata": {},
   "outputs": [],
   "source": []
  },
  {
   "cell_type": "code",
   "execution_count": null,
   "id": "eb7610a2",
   "metadata": {},
   "outputs": [],
   "source": []
  },
  {
   "cell_type": "code",
   "execution_count": null,
   "id": "e7875414",
   "metadata": {},
   "outputs": [],
   "source": []
  },
  {
   "cell_type": "code",
   "execution_count": null,
   "id": "50023b56",
   "metadata": {},
   "outputs": [],
   "source": []
  },
  {
   "cell_type": "code",
   "execution_count": null,
   "id": "f61a0151",
   "metadata": {},
   "outputs": [],
   "source": []
  },
  {
   "cell_type": "markdown",
   "id": "3e83df2b",
   "metadata": {},
   "source": [
    "# Thoughts 👉 \n",
    "\n",
    "In the cells below, freewrite your thoughts, takeaways, burning questions, etc...\n",
    "\n",
    "I reccomend bullet point format...but some people think in paragraphs and that's fine too! This is to help you synthesize the exporation you've just done and think through where you might go next.\n",
    "\n",
    "Are there questions you have that will require reporting to answer? Questions that will require expert statistical help? Are there variables your data doesn't consider or additional data that you need to join to this data? Is there a budding seed of a pitch somewhere?"
   ]
  },
  {
   "cell_type": "markdown",
   "id": "1860e7d7",
   "metadata": {},
   "source": [
    "* \n",
    "*\n",
    "*\n",
    "*\n",
    "*\n",
    "*"
   ]
  }
 ],
 "metadata": {
  "kernelspec": {
   "display_name": "Python 3 (ipykernel)",
   "language": "python",
   "name": "python3"
  },
  "language_info": {
   "codemirror_mode": {
    "name": "ipython",
    "version": 3
   },
   "file_extension": ".py",
   "mimetype": "text/x-python",
   "name": "python",
   "nbconvert_exporter": "python",
   "pygments_lexer": "ipython3",
   "version": "3.9.10"
  }
 },
 "nbformat": 4,
 "nbformat_minor": 5
}
