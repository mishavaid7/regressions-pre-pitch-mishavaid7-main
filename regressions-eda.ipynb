{
 "cells": [
  {
   "cell_type": "code",
   "execution_count": 1,
   "id": "cf7b443f",
   "metadata": {},
   "outputs": [
    {
     "name": "stderr",
     "output_type": "stream",
     "text": [
      "/Users/misha/.pyenv/versions/3.10.0/lib/python3.10/site-packages/pandas/compat/__init__.py:124: UserWarning: Could not import the lzma module. Your installed Python is incomplete. Attempting to use lzma compression will result in a RuntimeError.\n",
      "  warnings.warn(msg)\n"
     ]
    }
   ],
   "source": [
    "import pandas as pd\n",
    "from plotnine import *\n",
    "\n",
    "# importing statsmodels (for linear regression in python)\n",
    "import statsmodels.formula.api as smf"
   ]
  },
  {
   "cell_type": "markdown",
   "id": "d81b1be3",
   "metadata": {},
   "source": [
    "🚩I was getting a little confused with your markdown vs. my code so if you see red it's probably me rambling about something 🚩"
   ]
  },
  {
   "cell_type": "markdown",
   "id": "87748f59",
   "metadata": {},
   "source": [
    "## 🔴 To what extent do factors like neighborhood, minimum nights stayed and room type affect Airbnb prices in New York City?"
   ]
  },
  {
   "cell_type": "markdown",
   "id": "f56f85d2",
   "metadata": {},
   "source": [
    "I used a dataset of all Airbnb listings in New York City, let's see how the data looks below. The Data Source: http://insideairbnb.com/get-the-data.html *This data is sourced from publicly available information from the Airbnb site. I did not perform the scrape myself."
   ]
  },
  {
   "cell_type": "markdown",
   "id": "be3f94ec",
   "metadata": {},
   "source": [
    "# Exploratory data analysis\n",
    "\n",
    "This is your \"clean notebook\" for exploratory data viz. If you're just getting started, go to the `regressions-eda-scratchpad.ipynb` notebook and come back here once you've done some exploration and are getting ready to submit. \n",
    "\n",
    "This notebook doesn't have to tell a story from top-to-bottom, but the teaching team should be able to follow your logic as you explore. If you've come to a conclusion about something, put it in the title of the chart. If you have a takewaway or question, or are looking for feedback, put that in a markdown cell in text. This is your way to show the teaching team your exploratory data viz, and for us to give you feedback on it. \n",
    "\n",
    "\n",
    "## Load Data"
   ]
  },
  {
   "cell_type": "markdown",
   "id": "0f878406",
   "metadata": {},
   "source": [
    "Code for loading raw data like `pd.read_csv()` etc. -- will go into this section. "
   ]
  },
  {
   "cell_type": "code",
   "execution_count": 2,
   "id": "11ca2569",
   "metadata": {},
   "outputs": [
    {
     "data": {
      "text/html": [
       "<div>\n",
       "<style scoped>\n",
       "    .dataframe tbody tr th:only-of-type {\n",
       "        vertical-align: middle;\n",
       "    }\n",
       "\n",
       "    .dataframe tbody tr th {\n",
       "        vertical-align: top;\n",
       "    }\n",
       "\n",
       "    .dataframe thead th {\n",
       "        text-align: right;\n",
       "    }\n",
       "</style>\n",
       "<table border=\"1\" class=\"dataframe\">\n",
       "  <thead>\n",
       "    <tr style=\"text-align: right;\">\n",
       "      <th></th>\n",
       "      <th>id</th>\n",
       "      <th>name</th>\n",
       "      <th>host_id</th>\n",
       "      <th>host_name</th>\n",
       "      <th>neighbourhood_group</th>\n",
       "      <th>neighbourhood</th>\n",
       "      <th>latitude</th>\n",
       "      <th>longitude</th>\n",
       "      <th>room_type</th>\n",
       "      <th>price</th>\n",
       "      <th>minimum_nights</th>\n",
       "      <th>number_of_reviews</th>\n",
       "      <th>last_review</th>\n",
       "      <th>reviews_per_month</th>\n",
       "      <th>calculated_host_listings_count</th>\n",
       "      <th>availability_365</th>\n",
       "      <th>number_of_reviews_ltm</th>\n",
       "      <th>license</th>\n",
       "    </tr>\n",
       "  </thead>\n",
       "  <tbody>\n",
       "    <tr>\n",
       "      <th>38182</th>\n",
       "      <td>54150715</td>\n",
       "      <td>Private PATIO in PRIVATE Room | 5mins to Manha...</td>\n",
       "      <td>340322917</td>\n",
       "      <td>Elizabeth</td>\n",
       "      <td>Brooklyn</td>\n",
       "      <td>Bedford-Stuyvesant</td>\n",
       "      <td>40.692611</td>\n",
       "      <td>-73.933902</td>\n",
       "      <td>Private room</td>\n",
       "      <td>61</td>\n",
       "      <td>13</td>\n",
       "      <td>0</td>\n",
       "      <td>NaN</td>\n",
       "      <td>NaN</td>\n",
       "      <td>1</td>\n",
       "      <td>365</td>\n",
       "      <td>0</td>\n",
       "      <td>NaN</td>\n",
       "    </tr>\n",
       "    <tr>\n",
       "      <th>38183</th>\n",
       "      <td>54152478</td>\n",
       "      <td>Center of Columbia University in UWS New York</td>\n",
       "      <td>438705539</td>\n",
       "      <td>Qingnan</td>\n",
       "      <td>Manhattan</td>\n",
       "      <td>Morningside Heights</td>\n",
       "      <td>40.804473</td>\n",
       "      <td>-73.963734</td>\n",
       "      <td>Private room</td>\n",
       "      <td>60</td>\n",
       "      <td>1</td>\n",
       "      <td>0</td>\n",
       "      <td>NaN</td>\n",
       "      <td>NaN</td>\n",
       "      <td>1</td>\n",
       "      <td>159</td>\n",
       "      <td>0</td>\n",
       "      <td>NaN</td>\n",
       "    </tr>\n",
       "    <tr>\n",
       "      <th>38184</th>\n",
       "      <td>54161645</td>\n",
       "      <td>Escape to Haven in Manhattan-West 57th Street-...</td>\n",
       "      <td>355450429</td>\n",
       "      <td>Mike</td>\n",
       "      <td>Manhattan</td>\n",
       "      <td>Midtown</td>\n",
       "      <td>40.764400</td>\n",
       "      <td>-73.977960</td>\n",
       "      <td>Entire home/apt</td>\n",
       "      <td>110</td>\n",
       "      <td>1</td>\n",
       "      <td>0</td>\n",
       "      <td>NaN</td>\n",
       "      <td>NaN</td>\n",
       "      <td>4</td>\n",
       "      <td>5</td>\n",
       "      <td>0</td>\n",
       "      <td>NaN</td>\n",
       "    </tr>\n",
       "  </tbody>\n",
       "</table>\n",
       "</div>"
      ],
      "text/plain": [
       "             id                                               name    host_id  \\\n",
       "38182  54150715  Private PATIO in PRIVATE Room | 5mins to Manha...  340322917   \n",
       "38183  54152478      Center of Columbia University in UWS New York  438705539   \n",
       "38184  54161645  Escape to Haven in Manhattan-West 57th Street-...  355450429   \n",
       "\n",
       "       host_name neighbourhood_group        neighbourhood   latitude  \\\n",
       "38182  Elizabeth            Brooklyn   Bedford-Stuyvesant  40.692611   \n",
       "38183    Qingnan           Manhattan  Morningside Heights  40.804473   \n",
       "38184       Mike           Manhattan              Midtown  40.764400   \n",
       "\n",
       "       longitude        room_type  price  minimum_nights  number_of_reviews  \\\n",
       "38182 -73.933902     Private room     61              13                  0   \n",
       "38183 -73.963734     Private room     60               1                  0   \n",
       "38184 -73.977960  Entire home/apt    110               1                  0   \n",
       "\n",
       "      last_review  reviews_per_month  calculated_host_listings_count  \\\n",
       "38182         NaN                NaN                               1   \n",
       "38183         NaN                NaN                               1   \n",
       "38184         NaN                NaN                               4   \n",
       "\n",
       "       availability_365  number_of_reviews_ltm license  \n",
       "38182               365                      0     NaN  \n",
       "38183               159                      0     NaN  \n",
       "38184                 5                      0     NaN  "
      ]
     },
     "execution_count": 2,
     "metadata": {},
     "output_type": "execute_result"
    }
   ],
   "source": [
    "df = pd.read_csv('listings1.csv', low_memory=False)\n",
    "df.tail(3)"
   ]
  },
  {
   "cell_type": "markdown",
   "id": "498d12fd",
   "metadata": {},
   "source": [
    "### 🔴 For our analysis, 'price' is the dependent variable, while 'neighbourhood', 'room_type' and 'minimum_nights' are independent variables.  "
   ]
  },
  {
   "cell_type": "markdown",
   "id": "d5040073",
   "metadata": {},
   "source": [
    "### Our goal is to determine how much variance in price can be explained by our predictor variables. "
   ]
  },
  {
   "cell_type": "markdown",
   "id": "4d4ff1eb",
   "metadata": {},
   "source": [
    "### Clean data\n",
    "\n",
    "As you do your exploration, you may find that you need to transform the data (for example you want to extract the brand of a car from the name column, or rename 0 and 1 in the `am` column to \"automatic\" and \"manual\". I'd reccomend putting any of that code here and re-running the notebook. That way, when you come back to the notebook later, the data processing code is all at the top and you can chart or analyze whatever you want after it. \n",
    "\n",
    "Feel free to add as many cells as you need in this section."
   ]
  },
  {
   "cell_type": "markdown",
   "id": "7d3eb7a0",
   "metadata": {},
   "source": [
    "### 🔴let's start by dropping columns we won't be using. "
   ]
  },
  {
   "cell_type": "code",
   "execution_count": 3,
   "id": "8a5380ac",
   "metadata": {},
   "outputs": [],
   "source": [
    "df.drop(['id','name','host_id', 'host_name', 'last_review', 'reviews_per_month'], axis=1, inplace=True)"
   ]
  },
  {
   "cell_type": "markdown",
   "id": "2fc06aeb",
   "metadata": {},
   "source": [
    "## Explore the data"
   ]
  },
  {
   "cell_type": "markdown",
   "id": "81472f6f",
   "metadata": {},
   "source": [
    "### Summary Stats\n",
    "\n",
    "This is the part of the data exploration where you get to understand what the columns are. You're welcome to pop open the data in excel as well to get a sense of it. At the very least, you'll want to run `.describe()` on your dataframe or dataframes. If you want to do a correlation matrix, you can use `.corr()` (sometimes I like to add `.round(2)` to the end of that so it doesn't report it out to too many decimal places)"
   ]
  },
  {
   "cell_type": "code",
   "execution_count": 4,
   "id": "81ed83da",
   "metadata": {},
   "outputs": [
    {
     "data": {
      "text/html": [
       "<div>\n",
       "<style scoped>\n",
       "    .dataframe tbody tr th:only-of-type {\n",
       "        vertical-align: middle;\n",
       "    }\n",
       "\n",
       "    .dataframe tbody tr th {\n",
       "        vertical-align: top;\n",
       "    }\n",
       "\n",
       "    .dataframe thead th {\n",
       "        text-align: right;\n",
       "    }\n",
       "</style>\n",
       "<table border=\"1\" class=\"dataframe\">\n",
       "  <thead>\n",
       "    <tr style=\"text-align: right;\">\n",
       "      <th></th>\n",
       "      <th>latitude</th>\n",
       "      <th>longitude</th>\n",
       "      <th>price</th>\n",
       "      <th>minimum_nights</th>\n",
       "      <th>number_of_reviews</th>\n",
       "      <th>calculated_host_listings_count</th>\n",
       "      <th>availability_365</th>\n",
       "      <th>number_of_reviews_ltm</th>\n",
       "    </tr>\n",
       "  </thead>\n",
       "  <tbody>\n",
       "    <tr>\n",
       "      <th>count</th>\n",
       "      <td>38185.0</td>\n",
       "      <td>38185.0</td>\n",
       "      <td>38185.0</td>\n",
       "      <td>38185.0</td>\n",
       "      <td>38185.0</td>\n",
       "      <td>38185.0</td>\n",
       "      <td>38185.0</td>\n",
       "      <td>38185.0</td>\n",
       "    </tr>\n",
       "    <tr>\n",
       "      <th>mean</th>\n",
       "      <td>40.7</td>\n",
       "      <td>-73.9</td>\n",
       "      <td>159.3</td>\n",
       "      <td>21.2</td>\n",
       "      <td>23.8</td>\n",
       "      <td>17.8</td>\n",
       "      <td>139.8</td>\n",
       "      <td>5.6</td>\n",
       "    </tr>\n",
       "    <tr>\n",
       "      <th>std</th>\n",
       "      <td>0.1</td>\n",
       "      <td>0.1</td>\n",
       "      <td>292.5</td>\n",
       "      <td>29.0</td>\n",
       "      <td>51.1</td>\n",
       "      <td>58.0</td>\n",
       "      <td>145.4</td>\n",
       "      <td>15.2</td>\n",
       "    </tr>\n",
       "    <tr>\n",
       "      <th>min</th>\n",
       "      <td>40.5</td>\n",
       "      <td>-74.2</td>\n",
       "      <td>0.0</td>\n",
       "      <td>1.0</td>\n",
       "      <td>0.0</td>\n",
       "      <td>1.0</td>\n",
       "      <td>0.0</td>\n",
       "      <td>0.0</td>\n",
       "    </tr>\n",
       "    <tr>\n",
       "      <th>25%</th>\n",
       "      <td>40.7</td>\n",
       "      <td>-74.0</td>\n",
       "      <td>68.0</td>\n",
       "      <td>3.0</td>\n",
       "      <td>1.0</td>\n",
       "      <td>1.0</td>\n",
       "      <td>0.0</td>\n",
       "      <td>0.0</td>\n",
       "    </tr>\n",
       "    <tr>\n",
       "      <th>50%</th>\n",
       "      <td>40.7</td>\n",
       "      <td>-74.0</td>\n",
       "      <td>109.0</td>\n",
       "      <td>30.0</td>\n",
       "      <td>4.0</td>\n",
       "      <td>1.0</td>\n",
       "      <td>87.0</td>\n",
       "      <td>0.0</td>\n",
       "    </tr>\n",
       "    <tr>\n",
       "      <th>75%</th>\n",
       "      <td>40.8</td>\n",
       "      <td>-73.9</td>\n",
       "      <td>175.0</td>\n",
       "      <td>30.0</td>\n",
       "      <td>21.0</td>\n",
       "      <td>4.0</td>\n",
       "      <td>304.0</td>\n",
       "      <td>4.0</td>\n",
       "    </tr>\n",
       "    <tr>\n",
       "      <th>max</th>\n",
       "      <td>40.9</td>\n",
       "      <td>-73.7</td>\n",
       "      <td>10000.0</td>\n",
       "      <td>1250.0</td>\n",
       "      <td>1010.0</td>\n",
       "      <td>399.0</td>\n",
       "      <td>365.0</td>\n",
       "      <td>713.0</td>\n",
       "    </tr>\n",
       "  </tbody>\n",
       "</table>\n",
       "</div>"
      ],
      "text/plain": [
       "       latitude  longitude    price  minimum_nights  number_of_reviews  \\\n",
       "count   38185.0    38185.0  38185.0         38185.0            38185.0   \n",
       "mean       40.7      -73.9    159.3            21.2               23.8   \n",
       "std         0.1        0.1    292.5            29.0               51.1   \n",
       "min        40.5      -74.2      0.0             1.0                0.0   \n",
       "25%        40.7      -74.0     68.0             3.0                1.0   \n",
       "50%        40.7      -74.0    109.0            30.0                4.0   \n",
       "75%        40.8      -73.9    175.0            30.0               21.0   \n",
       "max        40.9      -73.7  10000.0          1250.0             1010.0   \n",
       "\n",
       "       calculated_host_listings_count  availability_365  number_of_reviews_ltm  \n",
       "count                         38185.0           38185.0                38185.0  \n",
       "mean                             17.8             139.8                    5.6  \n",
       "std                              58.0             145.4                   15.2  \n",
       "min                               1.0               0.0                    0.0  \n",
       "25%                               1.0               0.0                    0.0  \n",
       "50%                               1.0              87.0                    0.0  \n",
       "75%                               4.0             304.0                    4.0  \n",
       "max                             399.0             365.0                  713.0  "
      ]
     },
     "execution_count": 4,
     "metadata": {},
     "output_type": "execute_result"
    }
   ],
   "source": [
    "df.describe().round(1)"
   ]
  },
  {
   "cell_type": "code",
   "execution_count": 8,
   "id": "1d35dfd7",
   "metadata": {},
   "outputs": [
    {
     "data": {
      "text/plain": [
       "count    38185.0\n",
       "mean       159.3\n",
       "std        292.5\n",
       "min          0.0\n",
       "25%         68.0\n",
       "50%        109.0\n",
       "75%        175.0\n",
       "max      10000.0\n",
       "Name: price, dtype: float64"
      ]
     },
     "execution_count": 8,
     "metadata": {},
     "output_type": "execute_result"
    }
   ],
   "source": [
    "df.price.describe().round(1)"
   ]
  },
  {
   "cell_type": "code",
   "execution_count": 9,
   "id": "6c9cdf98",
   "metadata": {},
   "outputs": [
    {
     "data": {
      "text/html": [
       "<div>\n",
       "<style scoped>\n",
       "    .dataframe tbody tr th:only-of-type {\n",
       "        vertical-align: middle;\n",
       "    }\n",
       "\n",
       "    .dataframe tbody tr th {\n",
       "        vertical-align: top;\n",
       "    }\n",
       "\n",
       "    .dataframe thead tr th {\n",
       "        text-align: left;\n",
       "    }\n",
       "\n",
       "    .dataframe thead tr:last-of-type th {\n",
       "        text-align: right;\n",
       "    }\n",
       "</style>\n",
       "<table border=\"1\" class=\"dataframe\">\n",
       "  <thead>\n",
       "    <tr>\n",
       "      <th></th>\n",
       "      <th colspan=\"2\" halign=\"left\">price</th>\n",
       "    </tr>\n",
       "    <tr>\n",
       "      <th></th>\n",
       "      <th>mean</th>\n",
       "      <th>count</th>\n",
       "    </tr>\n",
       "    <tr>\n",
       "      <th>room_type</th>\n",
       "      <th></th>\n",
       "      <th></th>\n",
       "    </tr>\n",
       "  </thead>\n",
       "  <tbody>\n",
       "    <tr>\n",
       "      <th>Hotel room</th>\n",
       "      <td>237.07</td>\n",
       "      <td>209</td>\n",
       "    </tr>\n",
       "    <tr>\n",
       "      <th>Entire home/apt</th>\n",
       "      <td>210.97</td>\n",
       "      <td>20376</td>\n",
       "    </tr>\n",
       "    <tr>\n",
       "      <th>Shared room</th>\n",
       "      <td>150.48</td>\n",
       "      <td>566</td>\n",
       "    </tr>\n",
       "    <tr>\n",
       "      <th>Private room</th>\n",
       "      <td>96.80</td>\n",
       "      <td>17034</td>\n",
       "    </tr>\n",
       "  </tbody>\n",
       "</table>\n",
       "</div>"
      ],
      "text/plain": [
       "                  price       \n",
       "                   mean  count\n",
       "room_type                     \n",
       "Hotel room       237.07    209\n",
       "Entire home/apt  210.97  20376\n",
       "Shared room      150.48    566\n",
       "Private room      96.80  17034"
      ]
     },
     "execution_count": 9,
     "metadata": {},
     "output_type": "execute_result"
    }
   ],
   "source": [
    "df[['room_type','price']].groupby('room_type')\\\n",
    ".agg(['mean','count'])\\\n",
    ".sort_values(by=('price','mean'), ascending=False).round(2)"
   ]
  },
  {
   "cell_type": "markdown",
   "id": "d4ffce34",
   "metadata": {},
   "source": [
    "🔴 Entire home listings are the most popular and can earn you more than shared or private room listings."
   ]
  },
  {
   "cell_type": "code",
   "execution_count": 10,
   "id": "ef5a898f",
   "metadata": {},
   "outputs": [
    {
     "data": {
      "text/html": [
       "<div>\n",
       "<style scoped>\n",
       "    .dataframe tbody tr th:only-of-type {\n",
       "        vertical-align: middle;\n",
       "    }\n",
       "\n",
       "    .dataframe tbody tr th {\n",
       "        vertical-align: top;\n",
       "    }\n",
       "\n",
       "    .dataframe thead tr th {\n",
       "        text-align: left;\n",
       "    }\n",
       "\n",
       "    .dataframe thead tr:last-of-type th {\n",
       "        text-align: right;\n",
       "    }\n",
       "</style>\n",
       "<table border=\"1\" class=\"dataframe\">\n",
       "  <thead>\n",
       "    <tr>\n",
       "      <th></th>\n",
       "      <th colspan=\"2\" halign=\"left\">price</th>\n",
       "    </tr>\n",
       "    <tr>\n",
       "      <th></th>\n",
       "      <th>mean</th>\n",
       "      <th>count</th>\n",
       "    </tr>\n",
       "    <tr>\n",
       "      <th>neighbourhood_group</th>\n",
       "      <th></th>\n",
       "      <th></th>\n",
       "    </tr>\n",
       "  </thead>\n",
       "  <tbody>\n",
       "    <tr>\n",
       "      <th>Manhattan</th>\n",
       "      <td>201.88</td>\n",
       "      <td>16606</td>\n",
       "    </tr>\n",
       "    <tr>\n",
       "      <th>Brooklyn</th>\n",
       "      <td>132.56</td>\n",
       "      <td>14682</td>\n",
       "    </tr>\n",
       "    <tr>\n",
       "      <th>Staten Island</th>\n",
       "      <td>116.62</td>\n",
       "      <td>340</td>\n",
       "    </tr>\n",
       "    <tr>\n",
       "      <th>Queens</th>\n",
       "      <td>115.96</td>\n",
       "      <td>5431</td>\n",
       "    </tr>\n",
       "    <tr>\n",
       "      <th>Bronx</th>\n",
       "      <td>101.56</td>\n",
       "      <td>1126</td>\n",
       "    </tr>\n",
       "  </tbody>\n",
       "</table>\n",
       "</div>"
      ],
      "text/plain": [
       "                      price       \n",
       "                       mean  count\n",
       "neighbourhood_group               \n",
       "Manhattan            201.88  16606\n",
       "Brooklyn             132.56  14682\n",
       "Staten Island        116.62    340\n",
       "Queens               115.96   5431\n",
       "Bronx                101.56   1126"
      ]
     },
     "execution_count": 10,
     "metadata": {},
     "output_type": "execute_result"
    }
   ],
   "source": [
    "df[['neighbourhood_group','price']].groupby('neighbourhood_group')\\\n",
    ".agg(['mean','count'])\\\n",
    ".sort_values(by=('price','mean'), ascending=False).round(2)"
   ]
  },
  {
   "cell_type": "markdown",
   "id": "a413305a",
   "metadata": {},
   "source": [
    "🔴 Unsurpisingly, Manhattan has more number of listings and higher priced listings..."
   ]
  },
  {
   "cell_type": "code",
   "execution_count": 11,
   "id": "45fd178f",
   "metadata": {},
   "outputs": [
    {
     "data": {
      "text/html": [
       "<div>\n",
       "<style scoped>\n",
       "    .dataframe tbody tr th:only-of-type {\n",
       "        vertical-align: middle;\n",
       "    }\n",
       "\n",
       "    .dataframe tbody tr th {\n",
       "        vertical-align: top;\n",
       "    }\n",
       "\n",
       "    .dataframe thead tr th {\n",
       "        text-align: left;\n",
       "    }\n",
       "\n",
       "    .dataframe thead tr:last-of-type th {\n",
       "        text-align: right;\n",
       "    }\n",
       "</style>\n",
       "<table border=\"1\" class=\"dataframe\">\n",
       "  <thead>\n",
       "    <tr>\n",
       "      <th></th>\n",
       "      <th colspan=\"2\" halign=\"left\">price</th>\n",
       "    </tr>\n",
       "    <tr>\n",
       "      <th></th>\n",
       "      <th>mean</th>\n",
       "      <th>count</th>\n",
       "    </tr>\n",
       "    <tr>\n",
       "      <th>minimum_nights</th>\n",
       "      <th></th>\n",
       "      <th></th>\n",
       "    </tr>\n",
       "  </thead>\n",
       "  <tbody>\n",
       "    <tr>\n",
       "      <th>999</th>\n",
       "      <td>31.00</td>\n",
       "      <td>1</td>\n",
       "    </tr>\n",
       "    <tr>\n",
       "      <th>22</th>\n",
       "      <td>35.00</td>\n",
       "      <td>1</td>\n",
       "    </tr>\n",
       "    <tr>\n",
       "      <th>356</th>\n",
       "      <td>39.00</td>\n",
       "      <td>1</td>\n",
       "    </tr>\n",
       "    <tr>\n",
       "      <th>53</th>\n",
       "      <td>40.00</td>\n",
       "      <td>1</td>\n",
       "    </tr>\n",
       "    <tr>\n",
       "      <th>114</th>\n",
       "      <td>40.00</td>\n",
       "      <td>1</td>\n",
       "    </tr>\n",
       "    <tr>\n",
       "      <th>...</th>\n",
       "      <td>...</td>\n",
       "      <td>...</td>\n",
       "    </tr>\n",
       "    <tr>\n",
       "      <th>38</th>\n",
       "      <td>1000.00</td>\n",
       "      <td>1</td>\n",
       "    </tr>\n",
       "    <tr>\n",
       "      <th>40</th>\n",
       "      <td>1031.92</td>\n",
       "      <td>12</td>\n",
       "    </tr>\n",
       "    <tr>\n",
       "      <th>304</th>\n",
       "      <td>1275.00</td>\n",
       "      <td>1</td>\n",
       "    </tr>\n",
       "    <tr>\n",
       "      <th>99</th>\n",
       "      <td>2521.33</td>\n",
       "      <td>3</td>\n",
       "    </tr>\n",
       "    <tr>\n",
       "      <th>72</th>\n",
       "      <td>10000.00</td>\n",
       "      <td>1</td>\n",
       "    </tr>\n",
       "  </tbody>\n",
       "</table>\n",
       "<p>119 rows × 2 columns</p>\n",
       "</div>"
      ],
      "text/plain": [
       "                   price      \n",
       "                    mean count\n",
       "minimum_nights                \n",
       "999                31.00     1\n",
       "22                 35.00     1\n",
       "356                39.00     1\n",
       "53                 40.00     1\n",
       "114                40.00     1\n",
       "...                  ...   ...\n",
       "38               1000.00     1\n",
       "40               1031.92    12\n",
       "304              1275.00     1\n",
       "99               2521.33     3\n",
       "72              10000.00     1\n",
       "\n",
       "[119 rows x 2 columns]"
      ]
     },
     "execution_count": 11,
     "metadata": {},
     "output_type": "execute_result"
    }
   ],
   "source": [
    "df[['minimum_nights','price']].groupby('minimum_nights')\\\n",
    ".agg(['mean','count'])\\\n",
    ".sort_values(by=('price','mean'), ascending=True).round(2)"
   ]
  },
  {
   "cell_type": "markdown",
   "id": "9ac1ba9c",
   "metadata": {},
   "source": [
    "🔴 Idk what to make of this yet, but we'll come back to it!"
   ]
  },
  {
   "cell_type": "markdown",
   "id": "41abf615",
   "metadata": {},
   "source": [
    "### Plots (exploratory)\n",
    "\n",
    "Remember, always plot your distributions. You may want to try some histograms on particular columns. \n",
    "\n",
    "Scatter plots could also help with understanding how variables relate to one another. \n",
    "\n",
    "Feel free to use any plot type you think will help you better understand the data. If you think you've got a takeaway or a question, you can put that takeaway or question in a markdown cell above or below the chart. Just to remind yourself and anyone you're asking for help from, the purpose of that plot. I also like to get into the habit of titling plots [DRAFT]-NOT FOR PUBLICATION since exploratory data viz can be misleading but you might pass them around to editors or colleagues as you try to understand the data."
   ]
  },
  {
   "cell_type": "code",
   "execution_count": 5,
   "id": "da9600eb",
   "metadata": {},
   "outputs": [
    {
     "name": "stderr",
     "output_type": "stream",
     "text": [
      "/Users/misha/.pyenv/versions/3.10.0/lib/python3.10/site-packages/plotnine/layer.py:401: PlotnineWarning: geom_point : Removed 10 rows containing missing values.\n"
     ]
    },
    {
     "data": {
      "image/png": "[encoded data removed]",
      "text/plain": [
       "<Figure size 640x480 with 1 Axes>"
      ]
     },
     "metadata": {},
     "output_type": "display_data"
    },
    {
     "data": {
      "text/plain": [
       "<ggplot: (306393944)>"
      ]
     },
     "execution_count": 5,
     "metadata": {},
     "output_type": "execute_result"
    }
   ],
   "source": [
    "(\n",
    "    ggplot(df, aes(x='minimum_nights', y='price')) + xlim(0,400) + geom_point()\n",
    ")"
   ]
  },
  {
   "cell_type": "code",
   "execution_count": 6,
   "id": "baa9bb7c",
   "metadata": {},
   "outputs": [
    {
     "name": "stderr",
     "output_type": "stream",
     "text": [
      "/Users/misha/.pyenv/versions/3.10.0/lib/python3.10/site-packages/plotnine/layer.py:401: PlotnineWarning: geom_point : Removed 25 rows containing missing values.\n"
     ]
    },
    {
     "data": {
      "image/png": "[encoded data removed]",
      "text/plain": [
       "<Figure size 640x480 with 1 Axes>"
      ]
     },
     "metadata": {},
     "output_type": "display_data"
    },
    {
     "data": {
      "text/plain": [
       "<ggplot: (307291118)>"
      ]
     },
     "execution_count": 6,
     "metadata": {},
     "output_type": "execute_result"
    }
   ],
   "source": [
    "(\n",
    "    ggplot(df, aes(x='number_of_reviews', y='price')) + geom_point() + xlim(0,500)\n",
    ")"
   ]
  },
  {
   "cell_type": "code",
   "execution_count": null,
   "id": "f73b4e9d",
   "metadata": {},
   "outputs": [],
   "source": []
  },
  {
   "cell_type": "code",
   "execution_count": null,
   "id": "e85af2c7",
   "metadata": {},
   "outputs": [],
   "source": []
  },
  {
   "cell_type": "code",
   "execution_count": null,
   "id": "9d40064d",
   "metadata": {},
   "outputs": [],
   "source": []
  },
  {
   "cell_type": "markdown",
   "id": "48a9729f",
   "metadata": {},
   "source": [
    "### Regressions and Models (exploratory)\n",
    "\n",
    "This is where you start using some of the more advanced statsitical techniques you've learned so far to understand the data better. Wondering if the differences between two means is significant? You want to try a t-test. Alternatively, this is a good place to play around with regressions to better understand how variables in your dataset relate to one another. You might want to put the takeaway from the regression model in the cell below, just so you don't forget what exploration you did and what it means."
   ]
  },
  {
   "cell_type": "code",
   "execution_count": 7,
   "id": "ca57d41d",
   "metadata": {},
   "outputs": [
    {
     "data": {
      "text/html": [
       "<table class=\"simpletable\">\n",
       "<caption>OLS Regression Results</caption>\n",
       "<tr>\n",
       "  <th>Dep. Variable:</th>          <td>price</td>      <th>  R-squared:         </th>  <td>   0.002</td>  \n",
       "</tr>\n",
       "<tr>\n",
       "  <th>Model:</th>                   <td>OLS</td>       <th>  Adj. R-squared:    </th>  <td>   0.002</td>  \n",
       "</tr>\n",
       "<tr>\n",
       "  <th>Method:</th>             <td>Least Squares</td>  <th>  F-statistic:       </th>  <td>   30.01</td>  \n",
       "</tr>\n",
       "<tr>\n",
       "  <th>Date:</th>             <td>Tue, 01 Mar 2022</td> <th>  Prob (F-statistic):</th>  <td>9.50e-14</td>  \n",
       "</tr>\n",
       "<tr>\n",
       "  <th>Time:</th>                 <td>08:36:39</td>     <th>  Log-Likelihood:    </th> <td>-2.7098e+05</td>\n",
       "</tr>\n",
       "<tr>\n",
       "  <th>No. Observations:</th>      <td> 38185</td>      <th>  AIC:               </th>  <td>5.420e+05</td> \n",
       "</tr>\n",
       "<tr>\n",
       "  <th>Df Residuals:</th>          <td> 38182</td>      <th>  BIC:               </th>  <td>5.420e+05</td> \n",
       "</tr>\n",
       "<tr>\n",
       "  <th>Df Model:</th>              <td>     2</td>      <th>                     </th>      <td> </td>     \n",
       "</tr>\n",
       "<tr>\n",
       "  <th>Covariance Type:</th>      <td>nonrobust</td>    <th>                     </th>      <td> </td>     \n",
       "</tr>\n",
       "</table>\n",
       "<table class=\"simpletable\">\n",
       "<tr>\n",
       "          <td></td>             <th>coef</th>     <th>std err</th>      <th>t</th>      <th>P>|t|</th>  <th>[0.025</th>    <th>0.975]</th>  \n",
       "</tr>\n",
       "<tr>\n",
       "  <th>Intercept</th>         <td>  168.0825</td> <td>    2.046</td> <td>   82.158</td> <td> 0.000</td> <td>  164.073</td> <td>  172.092</td>\n",
       "</tr>\n",
       "<tr>\n",
       "  <th>minimum_nights</th>    <td>   -0.1673</td> <td>    0.052</td> <td>   -3.210</td> <td> 0.001</td> <td>   -0.269</td> <td>   -0.065</td>\n",
       "</tr>\n",
       "<tr>\n",
       "  <th>number_of_reviews</th> <td>   -0.2208</td> <td>    0.030</td> <td>   -7.454</td> <td> 0.000</td> <td>   -0.279</td> <td>   -0.163</td>\n",
       "</tr>\n",
       "</table>\n",
       "<table class=\"simpletable\">\n",
       "<tr>\n",
       "  <th>Omnibus:</th>       <td>83919.578</td> <th>  Durbin-Watson:     </th>   <td>   1.755</td>   \n",
       "</tr>\n",
       "<tr>\n",
       "  <th>Prob(Omnibus):</th>  <td> 0.000</td>   <th>  Jarque-Bera (JB):  </th> <td>562146157.483</td>\n",
       "</tr>\n",
       "<tr>\n",
       "  <th>Skew:</th>           <td>20.200</td>   <th>  Prob(JB):          </th>   <td>    0.00</td>   \n",
       "</tr>\n",
       "<tr>\n",
       "  <th>Kurtosis:</th>       <td>596.032</td>  <th>  Cond. No.          </th>   <td>    77.6</td>   \n",
       "</tr>\n",
       "</table><br/><br/>Notes:<br/>[1] Standard Errors assume that the covariance matrix of the errors is correctly specified."
      ],
      "text/plain": [
       "<class 'statsmodels.iolib.summary.Summary'>\n",
       "\"\"\"\n",
       "                            OLS Regression Results                            \n",
       "==============================================================================\n",
       "Dep. Variable:                  price   R-squared:                       0.002\n",
       "Model:                            OLS   Adj. R-squared:                  0.002\n",
       "Method:                 Least Squares   F-statistic:                     30.01\n",
       "Date:                Tue, 01 Mar 2022   Prob (F-statistic):           9.50e-14\n",
       "Time:                        08:36:39   Log-Likelihood:            -2.7098e+05\n",
       "No. Observations:               38185   AIC:                         5.420e+05\n",
       "Df Residuals:                   38182   BIC:                         5.420e+05\n",
       "Df Model:                           2                                         \n",
       "Covariance Type:            nonrobust                                         \n",
       "=====================================================================================\n",
       "                        coef    std err          t      P>|t|      [0.025      0.975]\n",
       "-------------------------------------------------------------------------------------\n",
       "Intercept           168.0825      2.046     82.158      0.000     164.073     172.092\n",
       "minimum_nights       -0.1673      0.052     -3.210      0.001      -0.269      -0.065\n",
       "number_of_reviews    -0.2208      0.030     -7.454      0.000      -0.279      -0.163\n",
       "==============================================================================\n",
       "Omnibus:                    83919.578   Durbin-Watson:                   1.755\n",
       "Prob(Omnibus):                  0.000   Jarque-Bera (JB):        562146157.483\n",
       "Skew:                          20.200   Prob(JB):                         0.00\n",
       "Kurtosis:                     596.032   Cond. No.                         77.6\n",
       "==============================================================================\n",
       "\n",
       "Notes:\n",
       "[1] Standard Errors assume that the covariance matrix of the errors is correctly specified.\n",
       "\"\"\""
      ]
     },
     "execution_count": 7,
     "metadata": {},
     "output_type": "execute_result"
    }
   ],
   "source": [
    "import statsmodels.formula.api as smf\n",
    "model = smf.ols(\"price ~ minimum_nights + number_of_reviews\", data=df)\n",
    "results = model.fit()\n",
    "results.summary()\n"
   ]
  },
  {
   "cell_type": "code",
   "execution_count": null,
   "id": "1272a5a6",
   "metadata": {},
   "outputs": [],
   "source": []
  },
  {
   "cell_type": "code",
   "execution_count": null,
   "id": "eb7610a2",
   "metadata": {},
   "outputs": [],
   "source": []
  },
  {
   "cell_type": "code",
   "execution_count": null,
   "id": "e7875414",
   "metadata": {},
   "outputs": [],
   "source": []
  },
  {
   "cell_type": "code",
   "execution_count": null,
   "id": "50023b56",
   "metadata": {},
   "outputs": [],
   "source": []
  },
  {
   "cell_type": "markdown",
   "id": "3e83df2b",
   "metadata": {},
   "source": [
    "# Thoughts 👉 \n",
    "\n",
    "In the cells below, freewrite your thoughts, takeaways, burning questions, etc...\n",
    "\n",
    "I reccomend bullet point format...but some people think in paragraphs and that's fine too! This is to help you synthesize the exporation you've just done and think through where you might go next.\n",
    "\n",
    "Are there questions you have that will require reporting to answer? Questions that will require expert statistical help? Are there variables your data doesn't consider or additional data that you need to join to this data? Is there a budding seed of a pitch somewhere?\n",
    "\n",
    "Also think about the **limitations of the data** and the **implications of your methodological choices** so far."
   ]
  },
  {
   "cell_type": "markdown",
   "id": "1860e7d7",
   "metadata": {},
   "source": [
    "* I know that the R-squared is really low BUT if I had more time I would separate the dataset by price categories and then run the regression again. Because it does seem like there is a correlation for prices under $175\n",
    "*\n"
   ]
  },
  {
   "cell_type": "markdown",
   "id": "ed5ef8ea",
   "metadata": {},
   "source": [
    "# Next Steps 👉 \n",
    "\n",
    "What do you think the next steps are to get this from exploratory data analysis to pitch? Be honest. If you think there's nothing here, just say that and try to figure out what a more meaningful approach or journalistic question would be. If you do think this could lead to your pitch, think through where you might go next with it:\n",
    "\n",
    "- Do you need more data? If so, where might you get it?\n",
    "- Do you need to do reporting? If so, who do you need to talk to?\n",
    "- Do you, at this point, need the help of someone with more stats knowledge? If so, what questions would you ask them?\n",
    "\n"
   ]
  },
  {
   "cell_type": "markdown",
   "id": "0531f989",
   "metadata": {},
   "source": [
    "I noticed that other models designed for the Airbnb dataset by data experts did not have an R-Squared greater than around 0.55, so I'm not sure if there is a story. But I do want to talk to someone who understands Airbnb trends in New York because that will allow us to run more focussed regressions. "
   ]
  },
  {
   "cell_type": "code",
   "execution_count": null,
   "id": "2e9efa4c",
   "metadata": {},
   "outputs": [],
   "source": []
  }
 ],
 "metadata": {
  "kernelspec": {
   "display_name": "Python 3 (ipykernel)",
   "language": "python",
   "name": "python3"
  },
  "language_info": {
   "codemirror_mode": {
    "name": "ipython",
    "version": 3
   },
   "file_extension": ".py",
   "mimetype": "text/x-python",
   "name": "python",
   "nbconvert_exporter": "python",
   "pygments_lexer": "ipython3",
   "version": "3.10.0"
  }
 },
 "nbformat": 4,
 "nbformat_minor": 5
}
